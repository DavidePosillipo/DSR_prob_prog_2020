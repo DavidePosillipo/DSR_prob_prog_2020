{
 "cells": [
  {
   "cell_type": "code",
   "execution_count": 2,
   "metadata": {},
   "outputs": [],
   "source": [
    "import pymc3 as pm "
   ]
  },
  {
   "cell_type": "code",
   "execution_count": 1,
   "metadata": {},
   "outputs": [],
   "source": [
    "# treatment and control \n",
    "n = 1000\n",
    "\n",
    "obs_v1 = 680 # control \n",
    "obs_v2 = 720 # treatment "
   ]
  },
  {
   "cell_type": "code",
   "execution_count": 3,
   "metadata": {},
   "outputs": [],
   "source": [
    "# prior Beta\n",
    "# likelihood Bernoulli -> pm.Binomial \n",
    "\n",
    "with pm.Model() as ab_model:\n",
    "    \n",
    "    ### PRIORS \n",
    "    prior_v1 = pm.Beta(\"v1_beta\", alpha=2, beta=2)\n",
    "    prior_v2 = pm.Beta(\"v2_beta\", alpha=2, beta=2)\n",
    "    \n",
    "    ### LIKELIHOOD\n",
    "    lik_v1 = pm.Binomial(\"v1_lik\", n=n, p=prior_v1, observed=obs_v1)\n",
    "    lik_v2 = pm.Binomial(\"v2_lik\", n=n, p=prior_v2, observed=obs_v2)\n",
    "    \n",
    "    ### DETERMINISTIC FUNCTIONS \n",
    "    delta = pm.Deterministic(\"delta\", prior_v1 - prior_v2)"
   ]
  },
  {
   "cell_type": "code",
   "execution_count": 4,
   "metadata": {},
   "outputs": [
    {
     "name": "stderr",
     "output_type": "stream",
     "text": [
      "Auto-assigning NUTS sampler...\n",
      "Initializing NUTS using jitter+adapt_diag...\n",
      "Multiprocess sampling (4 chains in 4 jobs)\n",
      "NUTS: [v2_beta, v1_beta]\n",
      "Sampling 4 chains: 100%|██████████| 42000/42000 [00:10<00:00, 3971.44draws/s]\n"
     ]
    }
   ],
   "source": [
    "with ab_model:\n",
    "    #trace = pm.sample(10000, target_accept=0.6) # kind of \"learning rate\"\n",
    "    trace = pm.sample(10000)"
   ]
  },
  {
   "cell_type": "code",
   "execution_count": 5,
   "metadata": {},
   "outputs": [
    {
     "data": {
      "text/plain": [
       "<matplotlib.axes._subplots.AxesSubplot at 0x1c21096240>"
      ]
     },
     "execution_count": 5,
     "metadata": {},
     "output_type": "execute_result"
    },
    {
     "data": {
      "image/png": "[encoded data removed]",
      "text/plain": [
       "<Figure size 432x288 with 1 Axes>"
      ]
     },
     "metadata": {
      "needs_background": "light"
     },
     "output_type": "display_data"
    }
   ],
   "source": [
    "pm.plot_posterior(trace[1000:], varnames=[\"delta\"], ref_val=0)"
   ]
  },
  {
   "cell_type": "code",
   "execution_count": null,
   "metadata": {},
   "outputs": [],
   "source": []
  }
 ],
 "metadata": {
  "kernelspec": {
   "display_name": "Python (pymc3_DSR)",
   "language": "python",
   "name": "pymc3_dsr"
  },
  "language_info": {
   "codemirror_mode": {
    "name": "ipython",
    "version": 3
   },
   "file_extension": ".py",
   "mimetype": "text/x-python",
   "name": "python",
   "nbconvert_exporter": "python",
   "pygments_lexer": "ipython3",
   "version": "3.6.7"
  }
 },
 "nbformat": 4,
 "nbformat_minor": 2
}
